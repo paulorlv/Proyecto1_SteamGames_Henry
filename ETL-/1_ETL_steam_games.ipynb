{
 "cells": [
  {
   "cell_type": "code",
   "execution_count": 39,
   "metadata": {},
   "outputs": [],
   "source": [
    "import pandas as pd\n",
    "import numpy as np\n",
    "import json\n"
   ]
  },
  {
   "cell_type": "markdown",
   "metadata": {},
   "source": [
    "ACA ME UBICO EN LA CARPETA DE LOS ARCHIVOS NECESARIOS"
   ]
  },
  {
   "cell_type": "code",
   "execution_count": 40,
   "metadata": {},
   "outputs": [
    {
     "name": "stdout",
     "output_type": "stream",
     "text": [
      "C:\\Users\\Familia Lara Pernia\\Desktop\\Henry\\Proyectos Individuales\\Proyecto1_Steam_Games\n"
     ]
    },
    {
     "data": {
      "text/plain": [
       "'C:\\\\Users\\\\Familia Lara Pernia\\\\Desktop\\\\Henry\\\\Proyectos Individuales\\\\Proyecto1_Steam_Games'"
      ]
     },
     "execution_count": 40,
     "metadata": {},
     "output_type": "execute_result"
    }
   ],
   "source": [
    "%cd C:\\\\Users\\\\Familia Lara Pernia\\\\Desktop\\\\Henry\\\\Proyectos Individuales\\\\archivos del proyecto 1_Steam_games\n",
    "%pwd"
   ]
  },
  {
   "cell_type": "markdown",
   "metadata": {},
   "source": [
    "CARGO EL ARCHVIO JSON EN DATAFRAME Y VEO SU INFORMACION"
   ]
  },
  {
   "cell_type": "code",
   "execution_count": 41,
   "metadata": {},
   "outputs": [],
   "source": [
    "# Cargar el JSON en un DataFrame\n",
    "json_data = \"output_steam_games.json\"\n",
    "steam_games = pd.read_json(json_data, lines=True)"
   ]
  },
  {
   "cell_type": "code",
   "execution_count": 42,
   "metadata": {},
   "outputs": [
    {
     "name": "stdout",
     "output_type": "stream",
     "text": [
      "<class 'pandas.core.frame.DataFrame'>\n",
      "RangeIndex: 120445 entries, 0 to 120444\n",
      "Data columns (total 13 columns):\n",
      " #   Column        Non-Null Count  Dtype  \n",
      "---  ------        --------------  -----  \n",
      " 0   publisher     24083 non-null  object \n",
      " 1   genres        28852 non-null  object \n",
      " 2   app_name      32133 non-null  object \n",
      " 3   title         30085 non-null  object \n",
      " 4   url           32135 non-null  object \n",
      " 5   release_date  30068 non-null  object \n",
      " 6   tags          31972 non-null  object \n",
      " 7   reviews_url   32133 non-null  object \n",
      " 8   specs         31465 non-null  object \n",
      " 9   price         30758 non-null  object \n",
      " 10  early_access  32135 non-null  float64\n",
      " 11  id            32133 non-null  float64\n",
      " 12  developer     28836 non-null  object \n",
      "dtypes: float64(2), object(11)\n",
      "memory usage: 11.9+ MB\n"
     ]
    }
   ],
   "source": [
    "steam_games.info()"
   ]
  },
  {
   "cell_type": "markdown",
   "metadata": {},
   "source": [
    "ELIMINO LAS FILAS QUE TIENEN TODAS SUS COLUMNAS EN NULO"
   ]
  },
  {
   "cell_type": "code",
   "execution_count": 43,
   "metadata": {},
   "outputs": [
    {
     "name": "stdout",
     "output_type": "stream",
     "text": [
      "<class 'pandas.core.frame.DataFrame'>\n",
      "Index: 32135 entries, 88310 to 120444\n",
      "Data columns (total 13 columns):\n",
      " #   Column        Non-Null Count  Dtype  \n",
      "---  ------        --------------  -----  \n",
      " 0   publisher     24083 non-null  object \n",
      " 1   genres        28852 non-null  object \n",
      " 2   app_name      32133 non-null  object \n",
      " 3   title         30085 non-null  object \n",
      " 4   url           32135 non-null  object \n",
      " 5   release_date  30068 non-null  object \n",
      " 6   tags          31972 non-null  object \n",
      " 7   reviews_url   32133 non-null  object \n",
      " 8   specs         31465 non-null  object \n",
      " 9   price         30758 non-null  object \n",
      " 10  early_access  32135 non-null  float64\n",
      " 11  id            32133 non-null  float64\n",
      " 12  developer     28836 non-null  object \n",
      "dtypes: float64(2), object(11)\n",
      "memory usage: 3.4+ MB\n"
     ]
    }
   ],
   "source": [
    "#ELIMINO LOS NULOS\n",
    "steam_games = steam_games.dropna(how='all')\n",
    "steam_games.info()"
   ]
  },
  {
   "cell_type": "markdown",
   "metadata": {},
   "source": [
    "CONVIERTO EN ENTERO LA COLUMNA ID\n",
    "\n",
    "Observe que la columna id posee valores nulos, por lo que primero procedo a ubicar esos nulos, para luego convertir a entero dicha columna."
   ]
  },
  {
   "cell_type": "code",
   "execution_count": 44,
   "metadata": {},
   "outputs": [
    {
     "data": {
      "text/html": [
       "<div>\n",
       "<style scoped>\n",
       "    .dataframe tbody tr th:only-of-type {\n",
       "        vertical-align: middle;\n",
       "    }\n",
       "\n",
       "    .dataframe tbody tr th {\n",
       "        vertical-align: top;\n",
       "    }\n",
       "\n",
       "    .dataframe thead th {\n",
       "        text-align: right;\n",
       "    }\n",
       "</style>\n",
       "<table border=\"1\" class=\"dataframe\">\n",
       "  <thead>\n",
       "    <tr style=\"text-align: right;\">\n",
       "      <th></th>\n",
       "      <th>publisher</th>\n",
       "      <th>genres</th>\n",
       "      <th>app_name</th>\n",
       "      <th>title</th>\n",
       "      <th>url</th>\n",
       "      <th>release_date</th>\n",
       "      <th>tags</th>\n",
       "      <th>reviews_url</th>\n",
       "      <th>specs</th>\n",
       "      <th>price</th>\n",
       "      <th>early_access</th>\n",
       "      <th>id</th>\n",
       "      <th>developer</th>\n",
       "    </tr>\n",
       "  </thead>\n",
       "  <tbody>\n",
       "    <tr>\n",
       "      <th>88384</th>\n",
       "      <td>None</td>\n",
       "      <td>None</td>\n",
       "      <td>None</td>\n",
       "      <td>None</td>\n",
       "      <td>http://store.steampowered.com/</td>\n",
       "      <td>None</td>\n",
       "      <td>None</td>\n",
       "      <td>None</td>\n",
       "      <td>None</td>\n",
       "      <td>19.99</td>\n",
       "      <td>0.0</td>\n",
       "      <td>NaN</td>\n",
       "      <td>None</td>\n",
       "    </tr>\n",
       "    <tr>\n",
       "      <th>119271</th>\n",
       "      <td>Warner Bros. Interactive Entertainment, Feral ...</td>\n",
       "      <td>[Action, Adventure]</td>\n",
       "      <td>Batman: Arkham City - Game of the Year Edition</td>\n",
       "      <td>Batman: Arkham City - Game of the Year Edition</td>\n",
       "      <td>http://store.steampowered.com/app/200260</td>\n",
       "      <td>2012-09-07</td>\n",
       "      <td>[Action, Open World, Batman, Adventure, Stealt...</td>\n",
       "      <td>None</td>\n",
       "      <td>[Single-player, Steam Achievements, Steam Trad...</td>\n",
       "      <td>19.99</td>\n",
       "      <td>0.0</td>\n",
       "      <td>NaN</td>\n",
       "      <td>Rocksteady Studios,Feral Interactive (Mac)</td>\n",
       "    </tr>\n",
       "  </tbody>\n",
       "</table>\n",
       "</div>"
      ],
      "text/plain": [
       "                                                publisher  \\\n",
       "88384                                                None   \n",
       "119271  Warner Bros. Interactive Entertainment, Feral ...   \n",
       "\n",
       "                     genres                                        app_name  \\\n",
       "88384                  None                                            None   \n",
       "119271  [Action, Adventure]  Batman: Arkham City - Game of the Year Edition   \n",
       "\n",
       "                                                 title  \\\n",
       "88384                                             None   \n",
       "119271  Batman: Arkham City - Game of the Year Edition   \n",
       "\n",
       "                                             url release_date  \\\n",
       "88384             http://store.steampowered.com/         None   \n",
       "119271  http://store.steampowered.com/app/200260   2012-09-07   \n",
       "\n",
       "                                                     tags reviews_url  \\\n",
       "88384                                                None        None   \n",
       "119271  [Action, Open World, Batman, Adventure, Stealt...        None   \n",
       "\n",
       "                                                    specs  price  \\\n",
       "88384                                                None  19.99   \n",
       "119271  [Single-player, Steam Achievements, Steam Trad...  19.99   \n",
       "\n",
       "        early_access  id                                   developer  \n",
       "88384            0.0 NaN                                        None  \n",
       "119271           0.0 NaN  Rocksteady Studios,Feral Interactive (Mac)  "
      ]
     },
     "execution_count": 44,
     "metadata": {},
     "output_type": "execute_result"
    }
   ],
   "source": [
    "#Ubico id nulos\n",
    "steam_games[steam_games['id'].isnull()]"
   ]
  },
  {
   "cell_type": "code",
   "execution_count": 45,
   "metadata": {},
   "outputs": [],
   "source": [
    "#Elimino las dos filas con id nulo (una de ellos no me aporta practicamente ninguna información, la otra la subestime)\n",
    "steam_games.dropna(subset=['id'],inplace=True) "
   ]
  },
  {
   "cell_type": "code",
   "execution_count": 46,
   "metadata": {},
   "outputs": [
    {
     "name": "stdout",
     "output_type": "stream",
     "text": [
      "<class 'pandas.core.frame.DataFrame'>\n",
      "Index: 32133 entries, 88310 to 120444\n",
      "Data columns (total 13 columns):\n",
      " #   Column        Non-Null Count  Dtype  \n",
      "---  ------        --------------  -----  \n",
      " 0   publisher     24082 non-null  object \n",
      " 1   genres        28851 non-null  object \n",
      " 2   app_name      32132 non-null  object \n",
      " 3   title         30084 non-null  object \n",
      " 4   url           32133 non-null  object \n",
      " 5   release_date  30067 non-null  object \n",
      " 6   tags          31971 non-null  object \n",
      " 7   reviews_url   32133 non-null  object \n",
      " 8   specs         31464 non-null  object \n",
      " 9   price         30756 non-null  object \n",
      " 10  early_access  32133 non-null  float64\n",
      " 11  id            32133 non-null  int32  \n",
      " 12  developer     28835 non-null  object \n",
      "dtypes: float64(1), int32(1), object(11)\n",
      "memory usage: 3.3+ MB\n"
     ]
    }
   ],
   "source": [
    "#Convierto a int los valores de la columna id\n",
    "steam_games['id'] = steam_games['id'].astype('int')\n",
    "steam_games.info()"
   ]
  },
  {
   "cell_type": "code",
   "execution_count": 47,
   "metadata": {},
   "outputs": [
    {
     "data": {
      "text/plain": [
       "publisher       8051\n",
       "genres          3282\n",
       "app_name           1\n",
       "title           2049\n",
       "url                0\n",
       "release_date    2066\n",
       "tags             162\n",
       "reviews_url        0\n",
       "specs            669\n",
       "price           1377\n",
       "early_access       0\n",
       "id                 0\n",
       "developer       3298\n",
       "dtype: int64"
      ]
     },
     "execution_count": 47,
     "metadata": {},
     "output_type": "execute_result"
    }
   ],
   "source": [
    "steam_games.isnull().sum() # Cuento la cantidad de nulos"
   ]
  },
  {
   "cell_type": "markdown",
   "metadata": {},
   "source": [
    "COMO DEVELOPER ES UNA COLUMNA QUE LLEVA INFORMACION PARECIDA A LA COLUMNA PUBLISHER, TOMAMOS LOS VALORES DEL ULTIMO MENCIONADO Y COMPLETAMOS LOS NULOS DE DEVELOPER. "
   ]
  },
  {
   "cell_type": "code",
   "execution_count": 48,
   "metadata": {},
   "outputs": [
    {
     "data": {
      "text/plain": [
       "publisher       8051\n",
       "genres          3282\n",
       "app_name           1\n",
       "title           2049\n",
       "url                0\n",
       "release_date    2066\n",
       "tags             162\n",
       "reviews_url        0\n",
       "specs            669\n",
       "price           1377\n",
       "early_access       0\n",
       "id                 0\n",
       "developer       3233\n",
       "dtype: int64"
      ]
     },
     "execution_count": 48,
     "metadata": {},
     "output_type": "execute_result"
    }
   ],
   "source": [
    "steam_games['developer'].fillna(steam_games['publisher'],inplace=True)\n",
    "steam_games.isnull().sum()"
   ]
  },
  {
   "cell_type": "markdown",
   "metadata": {},
   "source": [
    "LOGRAMOS REDUCIR NULOS DE LA COLUMNA DEVELOPER"
   ]
  },
  {
   "cell_type": "markdown",
   "metadata": {},
   "source": [
    "AHORA PROCEDEMOS A TRANSFORMAR Y LIMPIAR CADA COLUMNA APOYANDONOS EN LOS REQUERIMIENTOS DE LA API."
   ]
  },
  {
   "cell_type": "markdown",
   "metadata": {},
   "source": [
    "* RELEASE DATE:"
   ]
  },
  {
   "cell_type": "code",
   "execution_count": null,
   "metadata": {},
   "outputs": [],
   "source": [
    "# Se observan las cantidades de registros por cada fecha\n",
    "steam_games['release_date'].value_counts()"
   ]
  },
  {
   "cell_type": "code",
   "execution_count": null,
   "metadata": {},
   "outputs": [],
   "source": [
    "# Convertir la columna 'release_date' al tipo datetime\n",
    "steam_games['release_date'] = pd.to_datetime(steam_games['release_date'], errors='coerce')\n",
    "\n",
    "# Extraer el año y crear una nueva columna 'Año'\n",
    "steam_games['año_lanzamiento'] = steam_games['release_date'].dt.year   \n",
    "steam_games['año_lanzamiento'] = steam_games['año_lanzamiento'].astype('Int64')\n",
    "# elimina la columna 'release_date'\n",
    "steam_games = steam_games.drop('release_date', axis=1)\n",
    "\n",
    "# Mostrar el dataframe resultante\n",
    "steam_games.head()\n",
    "\n"
   ]
  },
  {
   "cell_type": "markdown",
   "metadata": {},
   "source": [
    "* PRICE:\n"
   ]
  },
  {
   "cell_type": "markdown",
   "metadata": {},
   "source": [
    "En dicha columna tenemos valores  como : [4.99, 9.99, Free to Use, Free to Play], por ello vamos a reemplazar todos los valores por flotantes, tanto los item que reflejan promociones o juegos gratis, y los campos nulos. Todo esto con el fin de manejar estos datos mas comodo en nuestra API."
   ]
  },
  {
   "cell_type": "code",
   "execution_count": 54,
   "metadata": {},
   "outputs": [],
   "source": [
    "# Suponiendo que df es tu DataFrame y 'precio' es la columna de precios\n",
    "# Reemplazar valores de texto por 0\n",
    "steam_games['price'] = pd.to_numeric(steam_games['price'], errors='coerce')\n",
    "steam_games['price'] = steam_games['price'].replace(['Free to Use', 'Free to Play'], 0)\n",
    "\n",
    "# Imputar valores nulos como 0\n",
    "steam_games['price'] = steam_games['price'].fillna(0)\n",
    "\n",
    "# Convertir a tipo numérico (si no lo ha hecho automáticamente)\n",
    "steam_games['price'] = pd.to_numeric(steam_games['price'])"
   ]
  },
  {
   "cell_type": "code",
   "execution_count": 60,
   "metadata": {},
   "outputs": [
    {
     "data": {
      "text/plain": [
       "88310     4.99\n",
       "88311     0.00\n",
       "88312     0.00\n",
       "88313     0.99\n",
       "88314     2.99\n",
       "88315     3.99\n",
       "88316     9.99\n",
       "88317    18.99\n",
       "88318    29.99\n",
       "88319     0.00\n",
       "88320     0.00\n",
       "88321     0.00\n",
       "88322    10.99\n",
       "88323     3.99\n",
       "88324     2.99\n",
       "88325     1.59\n",
       "88326    14.99\n",
       "88327     1.99\n",
       "88328    59.99\n",
       "88329     4.99\n",
       "Name: price, dtype: float64"
      ]
     },
     "execution_count": 60,
     "metadata": {},
     "output_type": "execute_result"
    }
   ],
   "source": [
    "steam_games['price'].head(20)"
   ]
  },
  {
   "cell_type": "markdown",
   "metadata": {},
   "source": [
    "* GENRES\n"
   ]
  },
  {
   "cell_type": "markdown",
   "metadata": {},
   "source": [
    "Para esta columna tenemos los generos ubicados dentro de una lista, procederemos a crear una fila nueva para cada genero, ademas los valores que tenga nulo al crearse la nueva se procederan a borrar, filtrando solo por la columna genres."
   ]
  },
  {
   "cell_type": "code",
   "execution_count": null,
   "metadata": {},
   "outputs": [],
   "source": [
    "steam_games = steam_games.explode('genres')\n",
    "steam_games = steam_games.dropna(subset=['genres'])\n",
    "steam_games.head(20)"
   ]
  },
  {
   "cell_type": "code",
   "execution_count": 63,
   "metadata": {},
   "outputs": [
    {
     "name": "stdout",
     "output_type": "stream",
     "text": [
      "<class 'pandas.core.frame.DataFrame'>\n",
      "Index: 71552 entries, 88310 to 120443\n",
      "Data columns (total 13 columns):\n",
      " #   Column           Non-Null Count  Dtype  \n",
      "---  ------           --------------  -----  \n",
      " 0   publisher        59113 non-null  object \n",
      " 1   genres           71552 non-null  object \n",
      " 2   app_name         71550 non-null  object \n",
      " 3   title            71550 non-null  object \n",
      " 4   url              71552 non-null  object \n",
      " 5   tags             71506 non-null  object \n",
      " 6   reviews_url      71552 non-null  object \n",
      " 7   specs            70995 non-null  object \n",
      " 8   price            71552 non-null  float64\n",
      " 9   early_access     71552 non-null  float64\n",
      " 10  id               71552 non-null  int32  \n",
      " 11  developer        71318 non-null  object \n",
      " 12  año_lanzamiento  70702 non-null  Int64  \n",
      "dtypes: Int64(1), float64(2), int32(1), object(9)\n",
      "memory usage: 7.4+ MB\n"
     ]
    }
   ],
   "source": [
    "steam_games.info()"
   ]
  },
  {
   "cell_type": "markdown",
   "metadata": {},
   "source": [
    "* ELIMINO COLUMNAS QUE NO UTILIZARE"
   ]
  },
  {
   "cell_type": "code",
   "execution_count": 65,
   "metadata": {},
   "outputs": [
    {
     "data": {
      "text/plain": [
       "Index(['publisher', 'genres', 'app_name', 'title', 'price', 'early_access',\n",
       "       'id', 'developer', 'año_lanzamiento'],\n",
       "      dtype='object')"
      ]
     },
     "execution_count": 65,
     "metadata": {},
     "output_type": "execute_result"
    }
   ],
   "source": [
    "steam_games = steam_games.drop(['tags', 'specs', 'url', 'reviews_url'], axis=1)\n",
    "steam_games.columns"
   ]
  },
  {
   "cell_type": "code",
   "execution_count": 66,
   "metadata": {},
   "outputs": [
    {
     "name": "stdout",
     "output_type": "stream",
     "text": [
      "<class 'pandas.core.frame.DataFrame'>\n",
      "Index: 71552 entries, 88310 to 120443\n",
      "Data columns (total 9 columns):\n",
      " #   Column           Non-Null Count  Dtype  \n",
      "---  ------           --------------  -----  \n",
      " 0   publisher        59113 non-null  object \n",
      " 1   genres           71552 non-null  object \n",
      " 2   app_name         71550 non-null  object \n",
      " 3   title            71550 non-null  object \n",
      " 4   price            71552 non-null  float64\n",
      " 5   early_access     71552 non-null  float64\n",
      " 6   id               71552 non-null  int32  \n",
      " 7   developer        71318 non-null  object \n",
      " 8   año_lanzamiento  70702 non-null  Int64  \n",
      "dtypes: Int64(1), float64(2), int32(1), object(5)\n",
      "memory usage: 5.3+ MB\n"
     ]
    }
   ],
   "source": [
    "steam_games.info()"
   ]
  },
  {
   "cell_type": "markdown",
   "metadata": {},
   "source": [
    "* CARGO EL DATASEET LIMPIO\n"
   ]
  },
  {
   "cell_type": "code",
   "execution_count": null,
   "metadata": {},
   "outputs": [],
   "source": [
    "archivo_limpio = 'archivos csv/steam_games_limpio.csv'\n",
    "steam_games.to_csv(archivo_limpio, index=False, encoding='utf-8')"
   ]
  }
 ],
 "metadata": {
  "kernelspec": {
   "display_name": "Python 3",
   "language": "python",
   "name": "python3"
  },
  "language_info": {
   "codemirror_mode": {
    "name": "ipython",
    "version": 3
   },
   "file_extension": ".py",
   "mimetype": "text/x-python",
   "name": "python",
   "nbconvert_exporter": "python",
   "pygments_lexer": "ipython3",
   "version": "3.10.11"
  }
 },
 "nbformat": 4,
 "nbformat_minor": 2
}
